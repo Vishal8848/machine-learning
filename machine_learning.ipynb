{
  "nbformat": 4,
  "nbformat_minor": 0,
  "metadata": {
    "colab": {
      "name": "machine_learning.ipynb",
      "provenance": [],
      "authorship_tag": "ABX9TyPOAhAi+8440ZP19QwJfCbQ",
      "include_colab_link": true
    },
    "kernelspec": {
      "name": "python3",
      "display_name": "Python 3"
    },
    "language_info": {
      "name": "python"
    }
  },
  "cells": [
    {
      "cell_type": "markdown",
      "metadata": {
        "id": "view-in-github",
        "colab_type": "text"
      },
      "source": [
        "<a href=\"https://colab.research.google.com/github/Vishal8848/machine-learning/blob/main/machine_learning.ipynb\" target=\"_parent\"><img src=\"https://colab.research.google.com/assets/colab-badge.svg\" alt=\"Open In Colab\"/></a>"
      ]
    },
    {
      "cell_type": "markdown",
      "source": [
        "### Machine Learning Contents:\n",
        "\n",
        "1. Creating Colab in **Drive**\n",
        "2. Connecting Repo to **GitHub**\n",
        "3. Making **Kaggle** Available Online\n",
        "4. Lively Access to **Kaggle** Datasets\n",
        "5. Extract Required Datasets\n",
        "6. **Pandas** - Managing Dataframes\n",
        "7. Creating **Fake** Datasets (for own use)\n",
        "8. A **Real** Problem (_see below_)"
      ],
      "metadata": {
        "id": "Ns_Go_cuI58a"
      }
    },
    {
      "cell_type": "code",
      "source": [
        "#1 - Creating Colab in Drive\n",
        "print('Google Colab Created in Drive')"
      ],
      "metadata": {
        "colab": {
          "base_uri": "https://localhost:8080/"
        },
        "id": "cvQbxiEUQpNB",
        "outputId": "a369c860-157b-47fb-be10-836857527362"
      },
      "execution_count": null,
      "outputs": [
        {
          "output_type": "stream",
          "name": "stdout",
          "text": [
            "Google Colab Created in Drive\n"
          ]
        }
      ]
    },
    {
      "cell_type": "code",
      "source": [
        "#2 - Connecting Repo to GitHub\n",
        "print('Connected to GitHub @ Vishal8848')"
      ],
      "metadata": {
        "colab": {
          "base_uri": "https://localhost:8080/"
        },
        "id": "a-0SEe9bQxyL",
        "outputId": "d4f715b9-98e8-4172-c53a-c8098f3b6c77"
      },
      "execution_count": null,
      "outputs": [
        {
          "output_type": "stream",
          "name": "stdout",
          "text": [
            "Connected to GitHub @ Vishal8848\n"
          ]
        }
      ]
    },
    {
      "cell_type": "code",
      "source": [
        "#3 - Making Kaggle Available Online\n",
        "\n",
        "# Installing Kaggle\n",
        "! pip install -q kaggle"
      ],
      "metadata": {
        "id": "LR4TLk2ZQ67z"
      },
      "execution_count": 2,
      "outputs": []
    },
    {
      "cell_type": "code",
      "source": [
        "# Upload kaggle.json File\n",
        "from google.colab import files\n",
        "files.upload()"
      ],
      "metadata": {
        "colab": {
          "resources": {
            "http://localhost:8080/nbextensions/google.colab/files.js": {
              "data": "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",
              "ok": true,
              "headers": [
                [
                  "content-type",
                  "application/javascript"
                ]
              ],
              "status": 200,
              "status_text": ""
            }
          },
          "base_uri": "https://localhost:8080/",
          "height": 90
        },
        "id": "57Y3522AVl6x",
        "outputId": "478b2679-5170-414b-c170-28dbb6666ef4"
      },
      "execution_count": 3,
      "outputs": [
        {
          "output_type": "display_data",
          "data": {
            "text/plain": [
              "<IPython.core.display.HTML object>"
            ],
            "text/html": [
              "\n",
              "     <input type=\"file\" id=\"files-d9d8b225-bccc-4bc9-935d-8ef5ff66a5e1\" name=\"files[]\" multiple disabled\n",
              "        style=\"border:none\" />\n",
              "     <output id=\"result-d9d8b225-bccc-4bc9-935d-8ef5ff66a5e1\">\n",
              "      Upload widget is only available when the cell has been executed in the\n",
              "      current browser session. Please rerun this cell to enable.\n",
              "      </output>\n",
              "      <script src=\"/nbextensions/google.colab/files.js\"></script> "
            ]
          },
          "metadata": {}
        },
        {
          "output_type": "stream",
          "name": "stdout",
          "text": [
            "Saving kaggle.json to kaggle.json\n"
          ]
        },
        {
          "output_type": "execute_result",
          "data": {
            "text/plain": [
              "{'kaggle.json': b'{\"username\":\"vp8848\",\"key\":\"55fb49a30117a3600d9594f63ed1c9ae\"}'}"
            ]
          },
          "metadata": {},
          "execution_count": 3
        }
      ]
    },
    {
      "cell_type": "code",
      "source": [
        "# Create Kaggle Folder\n",
        "! mkdir ~/.kaggle"
      ],
      "metadata": {
        "id": "5sI87uTXV42y"
      },
      "execution_count": 4,
      "outputs": []
    },
    {
      "cell_type": "code",
      "source": [
        "# Copy kaggle.json File to Kaggle Folder\n",
        "! cp kaggle.json ~/.kaggle\n",
        "\n",
        "# Check If kaggle.json Exists\n",
        "! ls -a ~/.kaggle"
      ],
      "metadata": {
        "colab": {
          "base_uri": "https://localhost:8080/"
        },
        "id": "a2Ud7AVcWmqV",
        "outputId": "20ca5936-e3f1-43a8-8cc4-546b88bcff57"
      },
      "execution_count": 5,
      "outputs": [
        {
          "output_type": "stream",
          "name": "stdout",
          "text": [
            ".  ..  kaggle.json\n"
          ]
        }
      ]
    },
    {
      "cell_type": "code",
      "source": [
        "# Grant Permission to Access JSON\n",
        "! chmod 600 ~/.kaggle/kaggle.json"
      ],
      "metadata": {
        "id": "LtckRn3GXbMN"
      },
      "execution_count": 6,
      "outputs": []
    },
    {
      "cell_type": "code",
      "source": [
        "#4 - Lively Access Kaggle Datasets\n",
        "\n",
        "# List Availabe Datasets\n",
        "! kaggle datasets list"
      ],
      "metadata": {
        "colab": {
          "base_uri": "https://localhost:8080/"
        },
        "id": "66FpzRgAXyVn",
        "outputId": "713d237b-e115-4487-9eb8-39244172ccb1"
      },
      "execution_count": 7,
      "outputs": [
        {
          "output_type": "stream",
          "name": "stdout",
          "text": [
            "ref                                                            title                                             size  lastUpdated          downloadCount  voteCount  usabilityRating  \n",
            "-------------------------------------------------------------  -----------------------------------------------  -----  -------------------  -------------  ---------  ---------------  \n",
            "datasets/muratkokludataset/date-fruit-datasets                 Date Fruit Datasets                              408KB  2022-04-03 09:25:39            739        200  0.9375           \n",
            "datasets/piterfm/2022-ukraine-russian-war                      2022 Ukraine Russia War                            2KB  2022-04-16 14:04:28           8711        485  1.0              \n",
            "datasets/muratkokludataset/acoustic-extinguisher-fire-dataset  Acoustic Extinguisher Fire Dataset               621KB  2022-04-02 22:59:36             44        181  0.9375           \n",
            "datasets/kamilpytlak/personal-key-indicators-of-heart-disease  Personal Key Indicators of Heart Disease           3MB  2022-02-16 10:18:03          14345        309  1.0              \n",
            "datasets/muratkokludataset/pistachio-image-dataset             Pistachio Image Dataset                           27MB  2022-03-28 18:01:27             29        172  0.9375           \n",
            "datasets/muratkokludataset/rice-image-dataset                  Rice Image Dataset                               219MB  2022-04-03 02:12:00            109        168  0.875            \n",
            "datasets/muratkokludataset/pistachio-dataset                   Pistachio Dataset                                  2MB  2022-04-03 08:38:21            126        141  0.9375           \n",
            "datasets/muratkokludataset/grapevine-leaves-image-dataset      Grapevine Leaves Image Dataset                   109MB  2022-04-03 09:00:54             19        160  0.8125           \n",
            "datasets/muratkokludataset/raisin-dataset                      Raisin Dataset                                   112KB  2022-04-03 00:23:16             59        119  0.9375           \n",
            "datasets/prasertk/population-pyramid-by-country-from-19502022  Population pyramid by country from 1950-2022     461KB  2022-04-13 09:42:07            277         21  1.0              \n",
            "datasets/muhmores/spotify-top-100-songs-of-20152019            Spotify Top 100 Songs of 2010-2019               139KB  2022-04-09 06:35:36            456         15  0.8235294        \n",
            "datasets/muratkokludataset/durum-wheat-dataset                 Durum Wheat Dataset                              983MB  2022-04-03 00:02:29             15        132  0.875            \n",
            "datasets/xhlulu/cpc-codes                                      Cooperative Patent Classification Codes Meaning    5MB  2022-03-22 03:04:36            668         81  1.0              \n",
            "datasets/muratkokludataset/dry-bean-dataset                    Dry Bean Dataset                                   5MB  2022-04-02 23:19:30             38        127  0.875            \n",
            "datasets/vivek468/superstore-dataset-final                     Superstore Dataset                               550KB  2022-02-17 11:33:07           9990        191  1.0              \n",
            "datasets/rinichristy/2022-fuel-consumption-ratings             2022 Fuel Consumption Ratings                     13KB  2022-04-06 14:41:35            458          9  1.0              \n",
            "datasets/muratkokludataset/rice-msc-dataset                    Rice MSC Dataset                                 102MB  2022-04-03 01:33:52             45        118  0.875            \n",
            "datasets/muratkokludataset/pumpkin-seeds-dataset               Pumpkin Seeds Dataset                            393KB  2022-03-28 18:28:16             57        119  0.875            \n",
            "datasets/shivkumarganesh/world-happiness-report-20152022       World Happiness Report 2015-2022                  69KB  2022-04-09 20:49:07            671         29  0.9705882        \n",
            "datasets/prasertk/major-social-media-stock-prices-20122022     Major social media stock prices 2012-2022        175KB  2022-04-07 08:04:53            533         27  1.0              \n"
          ]
        }
      ]
    },
    {
      "cell_type": "code",
      "source": [
        "#5 - Extract Required Dataset - Video Game Sales (vgsales.csv)\n",
        "\n",
        "# Download .zip File\n",
        "! kaggle datasets download -d gregorut/videogamesales\n",
        "\n",
        "# Unzip Dataset\n",
        "! unzip videogamesales.zip"
      ],
      "metadata": {
        "colab": {
          "base_uri": "https://localhost:8080/"
        },
        "id": "2ovYXh55ZMuy",
        "outputId": "d2ca5c4b-66cf-4ba6-9c3a-bb350b032afc"
      },
      "execution_count": 8,
      "outputs": [
        {
          "output_type": "stream",
          "name": "stdout",
          "text": [
            "Downloading videogamesales.zip to /content\n",
            "\r  0% 0.00/381k [00:00<?, ?B/s]\n",
            "\r100% 381k/381k [00:00<00:00, 98.7MB/s]\n",
            "Archive:  videogamesales.zip\n",
            "  inflating: vgsales.csv             \n"
          ]
        }
      ]
    },
    {
      "cell_type": "code",
      "source": [
        "#6 - Pandas: Managing Dataframes\n",
        "\n",
        "import pandas as pd\n",
        "\n",
        "# Read CSV\n",
        "df = pd.read_csv('vgsales.csv')\n",
        "\n",
        "print(df.shape) # print(df)\n",
        "\n",
        "df.describe()"
      ],
      "metadata": {
        "colab": {
          "base_uri": "https://localhost:8080/",
          "height": 318
        },
        "id": "yD5CD_7fbaQF",
        "outputId": "b10cccd1-8253-4113-b9a3-6beb0ccb81d3"
      },
      "execution_count": 12,
      "outputs": [
        {
          "output_type": "stream",
          "name": "stdout",
          "text": [
            "(16598, 11)\n"
          ]
        },
        {
          "output_type": "execute_result",
          "data": {
            "text/plain": [
              "               Rank          Year      NA_Sales      EU_Sales      JP_Sales  \\\n",
              "count  16598.000000  16327.000000  16598.000000  16598.000000  16598.000000   \n",
              "mean    8300.605254   2006.406443      0.264667      0.146652      0.077782   \n",
              "std     4791.853933      5.828981      0.816683      0.505351      0.309291   \n",
              "min        1.000000   1980.000000      0.000000      0.000000      0.000000   \n",
              "25%     4151.250000   2003.000000      0.000000      0.000000      0.000000   \n",
              "50%     8300.500000   2007.000000      0.080000      0.020000      0.000000   \n",
              "75%    12449.750000   2010.000000      0.240000      0.110000      0.040000   \n",
              "max    16600.000000   2020.000000     41.490000     29.020000     10.220000   \n",
              "\n",
              "        Other_Sales  Global_Sales  \n",
              "count  16598.000000  16598.000000  \n",
              "mean       0.048063      0.537441  \n",
              "std        0.188588      1.555028  \n",
              "min        0.000000      0.010000  \n",
              "25%        0.000000      0.060000  \n",
              "50%        0.010000      0.170000  \n",
              "75%        0.040000      0.470000  \n",
              "max       10.570000     82.740000  "
            ],
            "text/html": [
              "\n",
              "  <div id=\"df-963131ee-a168-4e7c-960f-6e3d923e12fa\">\n",
              "    <div class=\"colab-df-container\">\n",
              "      <div>\n",
              "<style scoped>\n",
              "    .dataframe tbody tr th:only-of-type {\n",
              "        vertical-align: middle;\n",
              "    }\n",
              "\n",
              "    .dataframe tbody tr th {\n",
              "        vertical-align: top;\n",
              "    }\n",
              "\n",
              "    .dataframe thead th {\n",
              "        text-align: right;\n",
              "    }\n",
              "</style>\n",
              "<table border=\"1\" class=\"dataframe\">\n",
              "  <thead>\n",
              "    <tr style=\"text-align: right;\">\n",
              "      <th></th>\n",
              "      <th>Rank</th>\n",
              "      <th>Year</th>\n",
              "      <th>NA_Sales</th>\n",
              "      <th>EU_Sales</th>\n",
              "      <th>JP_Sales</th>\n",
              "      <th>Other_Sales</th>\n",
              "      <th>Global_Sales</th>\n",
              "    </tr>\n",
              "  </thead>\n",
              "  <tbody>\n",
              "    <tr>\n",
              "      <th>count</th>\n",
              "      <td>16598.000000</td>\n",
              "      <td>16327.000000</td>\n",
              "      <td>16598.000000</td>\n",
              "      <td>16598.000000</td>\n",
              "      <td>16598.000000</td>\n",
              "      <td>16598.000000</td>\n",
              "      <td>16598.000000</td>\n",
              "    </tr>\n",
              "    <tr>\n",
              "      <th>mean</th>\n",
              "      <td>8300.605254</td>\n",
              "      <td>2006.406443</td>\n",
              "      <td>0.264667</td>\n",
              "      <td>0.146652</td>\n",
              "      <td>0.077782</td>\n",
              "      <td>0.048063</td>\n",
              "      <td>0.537441</td>\n",
              "    </tr>\n",
              "    <tr>\n",
              "      <th>std</th>\n",
              "      <td>4791.853933</td>\n",
              "      <td>5.828981</td>\n",
              "      <td>0.816683</td>\n",
              "      <td>0.505351</td>\n",
              "      <td>0.309291</td>\n",
              "      <td>0.188588</td>\n",
              "      <td>1.555028</td>\n",
              "    </tr>\n",
              "    <tr>\n",
              "      <th>min</th>\n",
              "      <td>1.000000</td>\n",
              "      <td>1980.000000</td>\n",
              "      <td>0.000000</td>\n",
              "      <td>0.000000</td>\n",
              "      <td>0.000000</td>\n",
              "      <td>0.000000</td>\n",
              "      <td>0.010000</td>\n",
              "    </tr>\n",
              "    <tr>\n",
              "      <th>25%</th>\n",
              "      <td>4151.250000</td>\n",
              "      <td>2003.000000</td>\n",
              "      <td>0.000000</td>\n",
              "      <td>0.000000</td>\n",
              "      <td>0.000000</td>\n",
              "      <td>0.000000</td>\n",
              "      <td>0.060000</td>\n",
              "    </tr>\n",
              "    <tr>\n",
              "      <th>50%</th>\n",
              "      <td>8300.500000</td>\n",
              "      <td>2007.000000</td>\n",
              "      <td>0.080000</td>\n",
              "      <td>0.020000</td>\n",
              "      <td>0.000000</td>\n",
              "      <td>0.010000</td>\n",
              "      <td>0.170000</td>\n",
              "    </tr>\n",
              "    <tr>\n",
              "      <th>75%</th>\n",
              "      <td>12449.750000</td>\n",
              "      <td>2010.000000</td>\n",
              "      <td>0.240000</td>\n",
              "      <td>0.110000</td>\n",
              "      <td>0.040000</td>\n",
              "      <td>0.040000</td>\n",
              "      <td>0.470000</td>\n",
              "    </tr>\n",
              "    <tr>\n",
              "      <th>max</th>\n",
              "      <td>16600.000000</td>\n",
              "      <td>2020.000000</td>\n",
              "      <td>41.490000</td>\n",
              "      <td>29.020000</td>\n",
              "      <td>10.220000</td>\n",
              "      <td>10.570000</td>\n",
              "      <td>82.740000</td>\n",
              "    </tr>\n",
              "  </tbody>\n",
              "</table>\n",
              "</div>\n",
              "      <button class=\"colab-df-convert\" onclick=\"convertToInteractive('df-963131ee-a168-4e7c-960f-6e3d923e12fa')\"\n",
              "              title=\"Convert this dataframe to an interactive table.\"\n",
              "              style=\"display:none;\">\n",
              "        \n",
              "  <svg xmlns=\"http://www.w3.org/2000/svg\" height=\"24px\"viewBox=\"0 0 24 24\"\n",
              "       width=\"24px\">\n",
              "    <path d=\"M0 0h24v24H0V0z\" fill=\"none\"/>\n",
              "    <path d=\"M18.56 5.44l.94 2.06.94-2.06 2.06-.94-2.06-.94-.94-2.06-.94 2.06-2.06.94zm-11 1L8.5 8.5l.94-2.06 2.06-.94-2.06-.94L8.5 2.5l-.94 2.06-2.06.94zm10 10l.94 2.06.94-2.06 2.06-.94-2.06-.94-.94-2.06-.94 2.06-2.06.94z\"/><path d=\"M17.41 7.96l-1.37-1.37c-.4-.4-.92-.59-1.43-.59-.52 0-1.04.2-1.43.59L10.3 9.45l-7.72 7.72c-.78.78-.78 2.05 0 2.83L4 21.41c.39.39.9.59 1.41.59.51 0 1.02-.2 1.41-.59l7.78-7.78 2.81-2.81c.8-.78.8-2.07 0-2.86zM5.41 20L4 18.59l7.72-7.72 1.47 1.35L5.41 20z\"/>\n",
              "  </svg>\n",
              "      </button>\n",
              "      \n",
              "  <style>\n",
              "    .colab-df-container {\n",
              "      display:flex;\n",
              "      flex-wrap:wrap;\n",
              "      gap: 12px;\n",
              "    }\n",
              "\n",
              "    .colab-df-convert {\n",
              "      background-color: #E8F0FE;\n",
              "      border: none;\n",
              "      border-radius: 50%;\n",
              "      cursor: pointer;\n",
              "      display: none;\n",
              "      fill: #1967D2;\n",
              "      height: 32px;\n",
              "      padding: 0 0 0 0;\n",
              "      width: 32px;\n",
              "    }\n",
              "\n",
              "    .colab-df-convert:hover {\n",
              "      background-color: #E2EBFA;\n",
              "      box-shadow: 0px 1px 2px rgba(60, 64, 67, 0.3), 0px 1px 3px 1px rgba(60, 64, 67, 0.15);\n",
              "      fill: #174EA6;\n",
              "    }\n",
              "\n",
              "    [theme=dark] .colab-df-convert {\n",
              "      background-color: #3B4455;\n",
              "      fill: #D2E3FC;\n",
              "    }\n",
              "\n",
              "    [theme=dark] .colab-df-convert:hover {\n",
              "      background-color: #434B5C;\n",
              "      box-shadow: 0px 1px 3px 1px rgba(0, 0, 0, 0.15);\n",
              "      filter: drop-shadow(0px 1px 2px rgba(0, 0, 0, 0.3));\n",
              "      fill: #FFFFFF;\n",
              "    }\n",
              "  </style>\n",
              "\n",
              "      <script>\n",
              "        const buttonEl =\n",
              "          document.querySelector('#df-963131ee-a168-4e7c-960f-6e3d923e12fa button.colab-df-convert');\n",
              "        buttonEl.style.display =\n",
              "          google.colab.kernel.accessAllowed ? 'block' : 'none';\n",
              "\n",
              "        async function convertToInteractive(key) {\n",
              "          const element = document.querySelector('#df-963131ee-a168-4e7c-960f-6e3d923e12fa');\n",
              "          const dataTable =\n",
              "            await google.colab.kernel.invokeFunction('convertToInteractive',\n",
              "                                                     [key], {});\n",
              "          if (!dataTable) return;\n",
              "\n",
              "          const docLinkHtml = 'Like what you see? Visit the ' +\n",
              "            '<a target=\"_blank\" href=https://colab.research.google.com/notebooks/data_table.ipynb>data table notebook</a>'\n",
              "            + ' to learn more about interactive tables.';\n",
              "          element.innerHTML = '';\n",
              "          dataTable['output_type'] = 'display_data';\n",
              "          await google.colab.output.renderOutput(dataTable, element);\n",
              "          const docLink = document.createElement('div');\n",
              "          docLink.innerHTML = docLinkHtml;\n",
              "          element.appendChild(docLink);\n",
              "        }\n",
              "      </script>\n",
              "    </div>\n",
              "  </div>\n",
              "  "
            ]
          },
          "metadata": {},
          "execution_count": 12
        }
      ]
    },
    {
      "cell_type": "code",
      "source": [
        "# 2D Array to Represent Dataset\n",
        "df.values"
      ],
      "metadata": {
        "colab": {
          "base_uri": "https://localhost:8080/"
        },
        "id": "64rB-EIAbC8o",
        "outputId": "12ef16be-bc98-4b83-92b0-5c3a4ccd9d4c"
      },
      "execution_count": 11,
      "outputs": [
        {
          "output_type": "execute_result",
          "data": {
            "text/plain": [
              "array([[1, 'Wii Sports', 'Wii', ..., 3.77, 8.46, 82.74],\n",
              "       [2, 'Super Mario Bros.', 'NES', ..., 6.81, 0.77, 40.24],\n",
              "       [3, 'Mario Kart Wii', 'Wii', ..., 3.79, 3.31, 35.82],\n",
              "       ...,\n",
              "       [16598, 'SCORE International Baja 1000: The Official Game', 'PS2',\n",
              "        ..., 0.0, 0.0, 0.01],\n",
              "       [16599, 'Know How 2', 'DS', ..., 0.0, 0.0, 0.01],\n",
              "       [16600, 'Spirits & Spells', 'GBA', ..., 0.0, 0.0, 0.01]],\n",
              "      dtype=object)"
            ]
          },
          "metadata": {},
          "execution_count": 11
        }
      ]
    },
    {
      "cell_type": "code",
      "source": [
        "#8 - Creating Fake Datasets (for own use) - Musical Genre Predictor\n",
        "\n",
        "#8.1 Create Custom Range\n",
        "genre = [ \"Jazz\", \"Classic\", \"Hip Hop\", \"Dance\", \"Acoustic\" ]\n",
        "gender = [ \"Male\", \"Female\" ]\n",
        "age = { \"min\" : 15, \"max\" : 65 }\n",
        "\n",
        "#8.2 Creating Columns - SNO, Age, Gender, Genre\n",
        "dataset = []\n",
        "\n",
        "# Randomly Assign Values\n",
        "import random\n",
        "\n",
        "for i in range(1000):\n",
        "  rand_age = random.randint(age[\"min\"], age[\"max\"])\n",
        "  rand_gender = random.choice(gender)\n",
        "  rand_genre = random.choice(genre)\n",
        "  datum = [i + 1, rand_age, rand_gender, rand_genre]\n",
        "  dataset.append(datum)\n",
        "\n",
        "# Creating the CSV\n",
        "import csv\n",
        "\n",
        "columns = [ \"SNo\", \"Age\", \"Gender\", \"Genre\" ]\n",
        "\n",
        "filename = \"musical_genre.csv\"\n",
        "\n",
        "with open(filename, \"w\") as datastore:\n",
        "\n",
        "  # CSV File Pointer\n",
        "  csvstore = csv.writer(datastore)\n",
        "\n",
        "  # Writing Columns\n",
        "  csvstore.writerow(columns)\n",
        "\n",
        "  # Writing Data Rows\n",
        "  csvstore.writerows(dataset)\n",
        "\n",
        "print(dataset)"
      ],
      "metadata": {
        "colab": {
          "base_uri": "https://localhost:8080/"
        },
        "id": "Oqcll8aveGQU",
        "outputId": "f3505fe8-b5c8-4e52-dbbb-d6b0ba704541"
      },
      "execution_count": 15,
      "outputs": [
        {
          "output_type": "stream",
          "name": "stdout",
          "text": [
            "[[1, 56, 'Female', 'Acoustic'], [2, 61, 'Female', 'Classic'], [3, 15, 'Female', 'Acoustic'], [4, 62, 'Male', 'Classic'], [5, 65, 'Male', 'Hip Hop'], [6, 59, 'Female', 'Hip Hop'], [7, 21, 'Female', 'Dance'], [8, 38, 'Male', 'Hip Hop'], [9, 50, 'Female', 'Hip Hop'], [10, 23, 'Male', 'Dance'], [11, 49, 'Female', 'Jazz'], [12, 50, 'Female', 'Acoustic'], [13, 46, 'Female', 'Acoustic'], [14, 35, 'Male', 'Hip Hop'], [15, 33, 'Male', 'Classic'], [16, 21, 'Female', 'Hip Hop'], [17, 39, 'Female', 'Jazz'], [18, 43, 'Female', 'Hip Hop'], [19, 38, 'Male', 'Jazz'], [20, 46, 'Female', 'Jazz'], [21, 63, 'Male', 'Acoustic'], [22, 16, 'Female', 'Dance'], [23, 29, 'Female', 'Jazz'], [24, 15, 'Male', 'Hip Hop'], [25, 20, 'Female', 'Jazz'], [26, 24, 'Male', 'Classic'], [27, 52, 'Male', 'Classic'], [28, 27, 'Male', 'Hip Hop'], [29, 51, 'Male', 'Classic'], [30, 18, 'Male', 'Hip Hop'], [31, 50, 'Male', 'Jazz'], [32, 29, 'Female', 'Classic'], [33, 32, 'Male', 'Acoustic'], [34, 40, 'Female', 'Classic'], [35, 28, 'Male', 'Jazz'], [36, 30, 'Male', 'Classic'], [37, 57, 'Female', 'Classic'], [38, 17, 'Male', 'Hip Hop'], [39, 38, 'Male', 'Jazz'], [40, 40, 'Female', 'Jazz'], [41, 20, 'Male', 'Hip Hop'], [42, 26, 'Male', 'Acoustic'], [43, 36, 'Male', 'Classic'], [44, 38, 'Female', 'Classic'], [45, 25, 'Male', 'Classic'], [46, 52, 'Female', 'Dance'], [47, 36, 'Male', 'Hip Hop'], [48, 42, 'Female', 'Acoustic'], [49, 18, 'Male', 'Acoustic'], [50, 45, 'Male', 'Acoustic'], [51, 17, 'Male', 'Classic'], [52, 17, 'Male', 'Acoustic'], [53, 43, 'Male', 'Hip Hop'], [54, 53, 'Male', 'Classic'], [55, 28, 'Male', 'Classic'], [56, 22, 'Female', 'Dance'], [57, 43, 'Female', 'Jazz'], [58, 65, 'Female', 'Hip Hop'], [59, 58, 'Male', 'Acoustic'], [60, 49, 'Female', 'Dance'], [61, 61, 'Female', 'Hip Hop'], [62, 63, 'Female', 'Classic'], [63, 57, 'Male', 'Jazz'], [64, 28, 'Female', 'Jazz'], [65, 54, 'Female', 'Hip Hop'], [66, 21, 'Male', 'Classic'], [67, 48, 'Male', 'Acoustic'], [68, 27, 'Female', 'Hip Hop'], [69, 55, 'Male', 'Hip Hop'], [70, 61, 'Male', 'Acoustic'], [71, 62, 'Female', 'Hip Hop'], [72, 57, 'Female', 'Dance'], [73, 23, 'Female', 'Hip Hop'], [74, 65, 'Male', 'Classic'], [75, 40, 'Male', 'Dance'], [76, 55, 'Female', 'Hip Hop'], [77, 54, 'Male', 'Hip Hop'], [78, 51, 'Female', 'Classic'], [79, 20, 'Male', 'Classic'], [80, 44, 'Male', 'Classic'], [81, 55, 'Male', 'Acoustic'], [82, 21, 'Female', 'Acoustic'], [83, 57, 'Female', 'Hip Hop'], [84, 45, 'Female', 'Jazz'], [85, 30, 'Female', 'Classic'], [86, 46, 'Male', 'Hip Hop'], [87, 16, 'Male', 'Jazz'], [88, 45, 'Female', 'Dance'], [89, 26, 'Female', 'Hip Hop'], [90, 60, 'Male', 'Acoustic'], [91, 51, 'Female', 'Dance'], [92, 55, 'Male', 'Hip Hop'], [93, 51, 'Male', 'Jazz'], [94, 27, 'Female', 'Acoustic'], [95, 47, 'Male', 'Acoustic'], [96, 28, 'Female', 'Dance'], [97, 36, 'Male', 'Dance'], [98, 22, 'Male', 'Hip Hop'], [99, 25, 'Male', 'Hip Hop'], [100, 37, 'Male', 'Hip Hop'], [101, 50, 'Male', 'Dance'], [102, 54, 'Male', 'Acoustic'], [103, 64, 'Female', 'Dance'], [104, 51, 'Male', 'Dance'], [105, 65, 'Female', 'Jazz'], [106, 25, 'Female', 'Acoustic'], [107, 18, 'Female', 'Dance'], [108, 18, 'Male', 'Hip Hop'], [109, 15, 'Female', 'Acoustic'], [110, 28, 'Female', 'Dance'], [111, 38, 'Female', 'Dance'], [112, 65, 'Female', 'Hip Hop'], [113, 15, 'Female', 'Classic'], [114, 34, 'Female', 'Acoustic'], [115, 39, 'Female', 'Jazz'], [116, 65, 'Male', 'Acoustic'], [117, 16, 'Male', 'Classic'], [118, 46, 'Female', 'Classic'], [119, 50, 'Male', 'Classic'], [120, 29, 'Female', 'Acoustic'], [121, 22, 'Male', 'Dance'], [122, 16, 'Female', 'Hip Hop'], [123, 59, 'Female', 'Jazz'], [124, 61, 'Male', 'Classic'], [125, 59, 'Female', 'Jazz'], [126, 59, 'Male', 'Acoustic'], [127, 15, 'Female', 'Dance'], [128, 57, 'Male', 'Hip Hop'], [129, 42, 'Female', 'Hip Hop'], [130, 43, 'Female', 'Jazz'], [131, 23, 'Male', 'Dance'], [132, 38, 'Female', 'Hip Hop'], [133, 23, 'Female', 'Jazz'], [134, 51, 'Female', 'Jazz'], [135, 54, 'Female', 'Hip Hop'], [136, 56, 'Female', 'Hip Hop'], [137, 42, 'Male', 'Jazz'], [138, 24, 'Female', 'Acoustic'], [139, 18, 'Male', 'Classic'], [140, 42, 'Female', 'Dance'], [141, 16, 'Female', 'Acoustic'], [142, 25, 'Male', 'Hip Hop'], [143, 55, 'Female', 'Classic'], [144, 62, 'Male', 'Hip Hop'], [145, 63, 'Male', 'Jazz'], [146, 62, 'Male', 'Jazz'], [147, 51, 'Male', 'Dance'], [148, 50, 'Male', 'Dance'], [149, 54, 'Female', 'Dance'], [150, 55, 'Male', 'Dance'], [151, 36, 'Male', 'Hip Hop'], [152, 41, 'Female', 'Dance'], [153, 23, 'Male', 'Hip Hop'], [154, 25, 'Male', 'Classic'], [155, 61, 'Male', 'Acoustic'], [156, 50, 'Male', 'Acoustic'], [157, 15, 'Female', 'Hip Hop'], [158, 30, 'Female', 'Dance'], [159, 40, 'Male', 'Classic'], [160, 25, 'Male', 'Acoustic'], [161, 16, 'Male', 'Jazz'], [162, 47, 'Male', 'Hip Hop'], [163, 30, 'Female', 'Jazz'], [164, 59, 'Female', 'Hip Hop'], [165, 63, 'Male', 'Hip Hop'], [166, 45, 'Male', 'Dance'], [167, 59, 'Male', 'Hip Hop'], [168, 36, 'Male', 'Dance'], [169, 58, 'Female', 'Classic'], [170, 64, 'Male', 'Classic'], [171, 54, 'Female', 'Jazz'], [172, 16, 'Female', 'Classic'], [173, 15, 'Male', 'Jazz'], [174, 49, 'Female', 'Dance'], [175, 29, 'Male', 'Dance'], [176, 53, 'Female', 'Classic'], [177, 60, 'Male', 'Classic'], [178, 55, 'Male', 'Classic'], [179, 40, 'Female', 'Jazz'], [180, 44, 'Female', 'Classic'], [181, 32, 'Female', 'Classic'], [182, 61, 'Female', 'Acoustic'], [183, 26, 'Male', 'Dance'], [184, 44, 'Female', 'Classic'], [185, 45, 'Male', 'Acoustic'], [186, 16, 'Female', 'Dance'], [187, 63, 'Female', 'Acoustic'], [188, 59, 'Female', 'Dance'], [189, 23, 'Female', 'Hip Hop'], [190, 24, 'Male', 'Classic'], [191, 53, 'Female', 'Jazz'], [192, 24, 'Male', 'Dance'], [193, 60, 'Male', 'Hip Hop'], [194, 25, 'Male', 'Dance'], [195, 62, 'Male', 'Dance'], [196, 62, 'Female', 'Jazz'], [197, 58, 'Male', 'Jazz'], [198, 60, 'Male', 'Dance'], [199, 15, 'Male', 'Acoustic'], [200, 62, 'Female', 'Dance'], [201, 19, 'Male', 'Acoustic'], [202, 16, 'Male', 'Jazz'], [203, 27, 'Male', 'Dance'], [204, 56, 'Female', 'Acoustic'], [205, 40, 'Female', 'Acoustic'], [206, 52, 'Male', 'Jazz'], [207, 36, 'Male', 'Dance'], [208, 15, 'Male', 'Hip Hop'], [209, 17, 'Female', 'Jazz'], [210, 25, 'Male', 'Jazz'], [211, 45, 'Female', 'Classic'], [212, 42, 'Female', 'Dance'], [213, 25, 'Male', 'Classic'], [214, 34, 'Female', 'Hip Hop'], [215, 51, 'Male', 'Hip Hop'], [216, 33, 'Female', 'Jazz'], [217, 38, 'Male', 'Dance'], [218, 60, 'Male', 'Hip Hop'], [219, 34, 'Female', 'Dance'], [220, 43, 'Male', 'Classic'], [221, 42, 'Male', 'Dance'], [222, 54, 'Female', 'Jazz'], [223, 45, 'Male', 'Dance'], [224, 45, 'Female', 'Acoustic'], [225, 49, 'Female', 'Jazz'], [226, 50, 'Female', 'Acoustic'], [227, 64, 'Female', 'Acoustic'], [228, 34, 'Female', 'Dance'], [229, 41, 'Female', 'Hip Hop'], [230, 55, 'Female', 'Acoustic'], [231, 64, 'Female', 'Classic'], [232, 58, 'Female', 'Jazz'], [233, 34, 'Female', 'Dance'], [234, 57, 'Male', 'Classic'], [235, 59, 'Female', 'Acoustic'], [236, 42, 'Female', 'Classic'], [237, 19, 'Female', 'Jazz'], [238, 62, 'Male', 'Acoustic'], [239, 56, 'Female', 'Jazz'], [240, 17, 'Male', 'Dance'], [241, 23, 'Male', 'Acoustic'], [242, 54, 'Female', 'Hip Hop'], [243, 22, 'Female', 'Classic'], [244, 16, 'Male', 'Hip Hop'], [245, 63, 'Female', 'Classic'], [246, 53, 'Male', 'Hip Hop'], [247, 56, 'Female', 'Jazz'], [248, 20, 'Male', 'Acoustic'], [249, 27, 'Female', 'Jazz'], [250, 49, 'Female', 'Hip Hop'], [251, 19, 'Male', 'Hip Hop'], [252, 26, 'Male', 'Hip Hop'], [253, 17, 'Male', 'Classic'], [254, 24, 'Male', 'Jazz'], [255, 25, 'Male', 'Acoustic'], [256, 39, 'Female', 'Acoustic'], [257, 27, 'Female', 'Hip Hop'], [258, 51, 'Female', 'Jazz'], [259, 60, 'Female', 'Jazz'], [260, 23, 'Male', 'Jazz'], [261, 54, 'Male', 'Acoustic'], [262, 22, 'Male', 'Classic'], [263, 24, 'Male', 'Dance'], [264, 62, 'Female', 'Classic'], [265, 58, 'Female', 'Hip Hop'], [266, 19, 'Female', 'Acoustic'], [267, 59, 'Female', 'Jazz'], [268, 39, 'Female', 'Jazz'], [269, 51, 'Female', 'Hip Hop'], [270, 19, 'Male', 'Classic'], [271, 61, 'Female', 'Dance'], [272, 52, 'Female', 'Dance'], [273, 24, 'Female', 'Acoustic'], [274, 52, 'Female', 'Acoustic'], [275, 22, 'Male', 'Classic'], [276, 19, 'Female', 'Hip Hop'], [277, 28, 'Female', 'Acoustic'], [278, 27, 'Male', 'Jazz'], [279, 36, 'Female', 'Jazz'], [280, 55, 'Female', 'Jazz'], [281, 22, 'Female', 'Dance'], [282, 51, 'Female', 'Dance'], [283, 27, 'Male', 'Hip Hop'], [284, 58, 'Female', 'Dance'], [285, 64, 'Male', 'Jazz'], [286, 46, 'Male', 'Acoustic'], [287, 20, 'Male', 'Acoustic'], [288, 65, 'Male', 'Jazz'], [289, 56, 'Female', 'Dance'], [290, 27, 'Male', 'Jazz'], [291, 61, 'Female', 'Dance'], [292, 51, 'Male', 'Jazz'], [293, 54, 'Male', 'Classic'], [294, 55, 'Female', 'Classic'], [295, 61, 'Male', 'Jazz'], [296, 40, 'Male', 'Classic'], [297, 54, 'Male', 'Dance'], [298, 16, 'Female', 'Acoustic'], [299, 32, 'Male', 'Dance'], [300, 25, 'Female', 'Dance'], [301, 23, 'Female', 'Jazz'], [302, 58, 'Female', 'Classic'], [303, 56, 'Male', 'Jazz'], [304, 63, 'Male', 'Dance'], [305, 46, 'Female', 'Hip Hop'], [306, 25, 'Female', 'Hip Hop'], [307, 52, 'Male', 'Dance'], [308, 40, 'Female', 'Hip Hop'], [309, 59, 'Male', 'Dance'], [310, 63, 'Female', 'Dance'], [311, 65, 'Female', 'Jazz'], [312, 54, 'Female', 'Hip Hop'], [313, 19, 'Male', 'Dance'], [314, 32, 'Female', 'Jazz'], [315, 43, 'Male', 'Jazz'], [316, 51, 'Female', 'Acoustic'], [317, 18, 'Male', 'Dance'], [318, 36, 'Male', 'Jazz'], [319, 58, 'Female', 'Jazz'], [320, 43, 'Female', 'Acoustic'], [321, 30, 'Female', 'Hip Hop'], [322, 44, 'Female', 'Jazz'], [323, 29, 'Male', 'Classic'], [324, 43, 'Male', 'Classic'], [325, 37, 'Male', 'Classic'], [326, 54, 'Male', 'Jazz'], [327, 44, 'Female', 'Acoustic'], [328, 33, 'Female', 'Hip Hop'], [329, 60, 'Male', 'Classic'], [330, 34, 'Female', 'Jazz'], [331, 24, 'Female', 'Hip Hop'], [332, 61, 'Female', 'Jazz'], [333, 56, 'Female', 'Jazz'], [334, 38, 'Female', 'Hip Hop'], [335, 38, 'Male', 'Jazz'], [336, 25, 'Male', 'Jazz'], [337, 24, 'Female', 'Dance'], [338, 18, 'Female', 'Classic'], [339, 63, 'Male', 'Hip Hop'], [340, 35, 'Female', 'Dance'], [341, 46, 'Female', 'Dance'], [342, 62, 'Female', 'Classic'], [343, 49, 'Male', 'Hip Hop'], [344, 45, 'Male', 'Classic'], [345, 64, 'Male', 'Acoustic'], [346, 57, 'Female', 'Classic'], [347, 52, 'Female', 'Jazz'], [348, 38, 'Male', 'Dance'], [349, 18, 'Male', 'Acoustic'], [350, 17, 'Female', 'Acoustic'], [351, 53, 'Female', 'Classic'], [352, 47, 'Female', 'Dance'], [353, 21, 'Female', 'Jazz'], [354, 62, 'Female', 'Jazz'], [355, 55, 'Male', 'Jazz'], [356, 40, 'Female', 'Hip Hop'], [357, 47, 'Female', 'Dance'], [358, 15, 'Male', 'Dance'], [359, 38, 'Male', 'Acoustic'], [360, 19, 'Female', 'Dance'], [361, 54, 'Female', 'Jazz'], [362, 19, 'Male', 'Jazz'], [363, 32, 'Female', 'Classic'], [364, 62, 'Female', 'Jazz'], [365, 58, 'Female', 'Hip Hop'], [366, 20, 'Male', 'Dance'], [367, 20, 'Male', 'Classic'], [368, 65, 'Male', 'Hip Hop'], [369, 48, 'Female', 'Hip Hop'], [370, 57, 'Male', 'Jazz'], [371, 45, 'Male', 'Classic'], [372, 41, 'Male', 'Jazz'], [373, 20, 'Female', 'Dance'], [374, 55, 'Female', 'Acoustic'], [375, 53, 'Male', 'Dance'], [376, 56, 'Male', 'Dance'], [377, 46, 'Female', 'Acoustic'], [378, 60, 'Male', 'Classic'], [379, 54, 'Male', 'Hip Hop'], [380, 54, 'Female', 'Jazz'], [381, 58, 'Female', 'Hip Hop'], [382, 20, 'Male', 'Hip Hop'], [383, 54, 'Female', 'Acoustic'], [384, 24, 'Male', 'Dance'], [385, 29, 'Male', 'Hip Hop'], [386, 53, 'Female', 'Classic'], [387, 40, 'Male', 'Classic'], [388, 18, 'Female', 'Hip Hop'], [389, 44, 'Female', 'Dance'], [390, 16, 'Male', 'Acoustic'], [391, 42, 'Male', 'Dance'], [392, 26, 'Female', 'Hip Hop'], [393, 63, 'Male', 'Hip Hop'], [394, 18, 'Male', 'Jazz'], [395, 21, 'Male', 'Dance'], [396, 38, 'Male', 'Classic'], [397, 58, 'Female', 'Classic'], [398, 21, 'Male', 'Hip Hop'], [399, 40, 'Male', 'Dance'], [400, 39, 'Male', 'Jazz'], [401, 45, 'Male', 'Acoustic'], [402, 54, 'Male', 'Hip Hop'], [403, 23, 'Male', 'Acoustic'], [404, 47, 'Female', 'Jazz'], [405, 49, 'Female', 'Dance'], [406, 34, 'Male', 'Jazz'], [407, 63, 'Male', 'Acoustic'], [408, 15, 'Female', 'Dance'], [409, 55, 'Female', 'Dance'], [410, 28, 'Male', 'Classic'], [411, 41, 'Female', 'Acoustic'], [412, 21, 'Male', 'Dance'], [413, 34, 'Female', 'Dance'], [414, 40, 'Female', 'Hip Hop'], [415, 41, 'Male', 'Classic'], [416, 41, 'Female', 'Jazz'], [417, 42, 'Female', 'Classic'], [418, 57, 'Female', 'Hip Hop'], [419, 64, 'Female', 'Jazz'], [420, 46, 'Male', 'Acoustic'], [421, 29, 'Female', 'Classic'], [422, 56, 'Male', 'Hip Hop'], [423, 23, 'Female', 'Jazz'], [424, 21, 'Female', 'Classic'], [425, 15, 'Female', 'Dance'], [426, 18, 'Female', 'Acoustic'], [427, 25, 'Female', 'Dance'], [428, 17, 'Male', 'Hip Hop'], [429, 28, 'Female', 'Jazz'], [430, 61, 'Male', 'Dance'], [431, 53, 'Male', 'Jazz'], [432, 16, 'Female', 'Classic'], [433, 57, 'Male', 'Hip Hop'], [434, 27, 'Male', 'Acoustic'], [435, 29, 'Female', 'Classic'], [436, 25, 'Male', 'Dance'], [437, 62, 'Female', 'Acoustic'], [438, 43, 'Male', 'Hip Hop'], [439, 55, 'Female', 'Classic'], [440, 16, 'Female', 'Dance'], [441, 43, 'Male', 'Hip Hop'], [442, 50, 'Female', 'Acoustic'], [443, 25, 'Female', 'Hip Hop'], [444, 62, 'Female', 'Hip Hop'], [445, 31, 'Female', 'Dance'], [446, 46, 'Female', 'Acoustic'], [447, 56, 'Female', 'Jazz'], [448, 64, 'Female', 'Acoustic'], [449, 25, 'Female', 'Acoustic'], [450, 35, 'Female', 'Acoustic'], [451, 59, 'Male', 'Classic'], [452, 59, 'Female', 'Hip Hop'], [453, 26, 'Male', 'Classic'], [454, 39, 'Female', 'Acoustic'], [455, 50, 'Female', 'Hip Hop'], [456, 38, 'Female', 'Hip Hop'], [457, 52, 'Male', 'Jazz'], [458, 35, 'Female', 'Dance'], [459, 30, 'Male', 'Hip Hop'], [460, 37, 'Female', 'Classic'], [461, 15, 'Female', 'Dance'], [462, 47, 'Female', 'Classic'], [463, 33, 'Male', 'Acoustic'], [464, 17, 'Male', 'Classic'], [465, 21, 'Male', 'Dance'], [466, 52, 'Male', 'Classic'], [467, 51, 'Male', 'Dance'], [468, 19, 'Female', 'Acoustic'], [469, 39, 'Female', 'Jazz'], [470, 59, 'Male', 'Acoustic'], [471, 55, 'Male', 'Jazz'], [472, 63, 'Female', 'Jazz'], [473, 19, 'Female', 'Hip Hop'], [474, 38, 'Male', 'Dance'], [475, 45, 'Female', 'Classic'], [476, 35, 'Male', 'Acoustic'], [477, 63, 'Female', 'Dance'], [478, 32, 'Female', 'Dance'], [479, 57, 'Female', 'Acoustic'], [480, 23, 'Male', 'Classic'], [481, 63, 'Female', 'Classic'], [482, 64, 'Female', 'Dance'], [483, 57, 'Male', 'Dance'], [484, 47, 'Female', 'Hip Hop'], [485, 29, 'Female', 'Hip Hop'], [486, 36, 'Female', 'Dance'], [487, 54, 'Male', 'Acoustic'], [488, 38, 'Female', 'Acoustic'], [489, 42, 'Female', 'Hip Hop'], [490, 46, 'Male', 'Jazz'], [491, 30, 'Female', 'Acoustic'], [492, 43, 'Female', 'Hip Hop'], [493, 32, 'Male', 'Classic'], [494, 39, 'Female', 'Jazz'], [495, 58, 'Female', 'Acoustic'], [496, 16, 'Female', 'Dance'], [497, 40, 'Male', 'Classic'], [498, 57, 'Female', 'Classic'], [499, 41, 'Male', 'Classic'], [500, 30, 'Female', 'Classic'], [501, 45, 'Male', 'Acoustic'], [502, 51, 'Male', 'Hip Hop'], [503, 24, 'Female', 'Jazz'], [504, 23, 'Male', 'Hip Hop'], [505, 39, 'Male', 'Acoustic'], [506, 44, 'Male', 'Hip Hop'], [507, 32, 'Female', 'Acoustic'], [508, 43, 'Male', 'Hip Hop'], [509, 26, 'Female', 'Dance'], [510, 26, 'Female', 'Dance'], [511, 53, 'Male', 'Hip Hop'], [512, 27, 'Female', 'Jazz'], [513, 62, 'Female', 'Acoustic'], [514, 18, 'Male', 'Dance'], [515, 21, 'Female', 'Dance'], [516, 23, 'Female', 'Dance'], [517, 63, 'Male', 'Hip Hop'], [518, 58, 'Male', 'Jazz'], [519, 42, 'Female', 'Jazz'], [520, 18, 'Female', 'Dance'], [521, 35, 'Female', 'Classic'], [522, 22, 'Male', 'Dance'], [523, 53, 'Male', 'Dance'], [524, 47, 'Female', 'Jazz'], [525, 54, 'Male', 'Jazz'], [526, 57, 'Male', 'Hip Hop'], [527, 51, 'Male', 'Dance'], [528, 58, 'Female', 'Hip Hop'], [529, 16, 'Female', 'Hip Hop'], [530, 30, 'Male', 'Dance'], [531, 32, 'Female', 'Hip Hop'], [532, 34, 'Male', 'Classic'], [533, 31, 'Female', 'Jazz'], [534, 15, 'Female', 'Jazz'], [535, 58, 'Female', 'Jazz'], [536, 60, 'Female', 'Classic'], [537, 29, 'Male', 'Acoustic'], [538, 55, 'Male', 'Dance'], [539, 35, 'Male', 'Hip Hop'], [540, 28, 'Female', 'Classic'], [541, 43, 'Female', 'Classic'], [542, 33, 'Male', 'Dance'], [543, 40, 'Male', 'Jazz'], [544, 23, 'Female', 'Hip Hop'], [545, 55, 'Male', 'Classic'], [546, 26, 'Female', 'Jazz'], [547, 42, 'Male', 'Classic'], [548, 51, 'Male', 'Hip Hop'], [549, 15, 'Male', 'Classic'], [550, 22, 'Male', 'Acoustic'], [551, 43, 'Male', 'Acoustic'], [552, 25, 'Female', 'Hip Hop'], [553, 34, 'Female', 'Classic'], [554, 53, 'Female', 'Hip Hop'], [555, 34, 'Male', 'Jazz'], [556, 35, 'Male', 'Dance'], [557, 30, 'Male', 'Acoustic'], [558, 25, 'Female', 'Jazz'], [559, 42, 'Male', 'Classic'], [560, 56, 'Female', 'Hip Hop'], [561, 27, 'Male', 'Dance'], [562, 53, 'Male', 'Classic'], [563, 35, 'Female', 'Classic'], [564, 53, 'Male', 'Dance'], [565, 63, 'Female', 'Jazz'], [566, 28, 'Male', 'Acoustic'], [567, 18, 'Male', 'Hip Hop'], [568, 47, 'Male', 'Hip Hop'], [569, 53, 'Female', 'Hip Hop'], [570, 46, 'Female', 'Hip Hop'], [571, 41, 'Female', 'Jazz'], [572, 22, 'Female', 'Acoustic'], [573, 34, 'Male', 'Hip Hop'], [574, 33, 'Male', 'Acoustic'], [575, 20, 'Female', 'Hip Hop'], [576, 61, 'Female', 'Jazz'], [577, 64, 'Male', 'Hip Hop'], [578, 42, 'Female', 'Classic'], [579, 57, 'Male', 'Classic'], [580, 18, 'Male', 'Classic'], [581, 32, 'Female', 'Hip Hop'], [582, 30, 'Female', 'Classic'], [583, 52, 'Male', 'Hip Hop'], [584, 37, 'Male', 'Hip Hop'], [585, 21, 'Female', 'Hip Hop'], [586, 48, 'Male', 'Acoustic'], [587, 63, 'Male', 'Jazz'], [588, 64, 'Female', 'Dance'], [589, 44, 'Male', 'Acoustic'], [590, 62, 'Male', 'Hip Hop'], [591, 24, 'Male', 'Hip Hop'], [592, 62, 'Male', 'Jazz'], [593, 38, 'Female', 'Acoustic'], [594, 61, 'Male', 'Hip Hop'], [595, 21, 'Female', 'Hip Hop'], [596, 23, 'Female', 'Jazz'], [597, 22, 'Female', 'Acoustic'], [598, 27, 'Female', 'Jazz'], [599, 37, 'Female', 'Jazz'], [600, 52, 'Male', 'Acoustic'], [601, 50, 'Male', 'Hip Hop'], [602, 56, 'Female', 'Hip Hop'], [603, 24, 'Male', 'Classic'], [604, 39, 'Female', 'Acoustic'], [605, 56, 'Male', 'Dance'], [606, 29, 'Female', 'Acoustic'], [607, 45, 'Male', 'Hip Hop'], [608, 31, 'Male', 'Jazz'], [609, 17, 'Female', 'Jazz'], [610, 36, 'Male', 'Dance'], [611, 36, 'Female', 'Hip Hop'], [612, 41, 'Male', 'Dance'], [613, 15, 'Male', 'Classic'], [614, 47, 'Male', 'Jazz'], [615, 47, 'Female', 'Acoustic'], [616, 48, 'Male', 'Jazz'], [617, 31, 'Male', 'Dance'], [618, 36, 'Male', 'Classic'], [619, 19, 'Female', 'Acoustic'], [620, 38, 'Female', 'Acoustic'], [621, 59, 'Female', 'Classic'], [622, 65, 'Female', 'Hip Hop'], [623, 58, 'Female', 'Acoustic'], [624, 44, 'Male', 'Jazz'], [625, 55, 'Male', 'Jazz'], [626, 64, 'Female', 'Dance'], [627, 53, 'Male', 'Classic'], [628, 22, 'Male', 'Classic'], [629, 49, 'Male', 'Dance'], [630, 49, 'Male', 'Acoustic'], [631, 50, 'Female', 'Acoustic'], [632, 62, 'Male', 'Classic'], [633, 16, 'Male', 'Acoustic'], [634, 51, 'Female', 'Acoustic'], [635, 36, 'Female', 'Classic'], [636, 46, 'Male', 'Acoustic'], [637, 32, 'Female', 'Hip Hop'], [638, 44, 'Male', 'Acoustic'], [639, 41, 'Male', 'Acoustic'], [640, 18, 'Male', 'Dance'], [641, 34, 'Male', 'Hip Hop'], [642, 22, 'Female', 'Acoustic'], [643, 24, 'Male', 'Dance'], [644, 65, 'Female', 'Jazz'], [645, 29, 'Female', 'Acoustic'], [646, 36, 'Female', 'Hip Hop'], [647, 42, 'Male', 'Acoustic'], [648, 37, 'Female', 'Dance'], [649, 44, 'Male', 'Dance'], [650, 34, 'Male', 'Acoustic'], [651, 59, 'Male', 'Jazz'], [652, 28, 'Female', 'Acoustic'], [653, 43, 'Female', 'Dance'], [654, 37, 'Female', 'Dance'], [655, 37, 'Male', 'Jazz'], [656, 36, 'Male', 'Hip Hop'], [657, 37, 'Female', 'Jazz'], [658, 47, 'Male', 'Jazz'], [659, 57, 'Female', 'Hip Hop'], [660, 41, 'Female', 'Acoustic'], [661, 48, 'Female', 'Acoustic'], [662, 55, 'Male', 'Acoustic'], [663, 28, 'Female', 'Jazz'], [664, 64, 'Male', 'Dance'], [665, 15, 'Female', 'Dance'], [666, 57, 'Male', 'Acoustic'], [667, 45, 'Male', 'Acoustic'], [668, 45, 'Male', 'Dance'], [669, 33, 'Male', 'Acoustic'], [670, 61, 'Male', 'Classic'], [671, 39, 'Female', 'Jazz'], [672, 15, 'Female', 'Jazz'], [673, 18, 'Male', 'Classic'], [674, 50, 'Female', 'Classic'], [675, 49, 'Female', 'Dance'], [676, 47, 'Male', 'Acoustic'], [677, 20, 'Female', 'Dance'], [678, 46, 'Female', 'Acoustic'], [679, 40, 'Female', 'Hip Hop'], [680, 56, 'Male', 'Classic'], [681, 60, 'Male', 'Acoustic'], [682, 55, 'Male', 'Dance'], [683, 16, 'Male', 'Acoustic'], [684, 38, 'Female', 'Acoustic'], [685, 16, 'Male', 'Dance'], [686, 38, 'Male', 'Acoustic'], [687, 32, 'Female', 'Jazz'], [688, 51, 'Male', 'Classic'], [689, 65, 'Female', 'Jazz'], [690, 32, 'Male', 'Acoustic'], [691, 32, 'Male', 'Acoustic'], [692, 29, 'Male', 'Jazz'], [693, 45, 'Female', 'Acoustic'], [694, 22, 'Female', 'Hip Hop'], [695, 34, 'Female', 'Hip Hop'], [696, 58, 'Female', 'Hip Hop'], [697, 17, 'Female', 'Dance'], [698, 26, 'Female', 'Acoustic'], [699, 44, 'Male', 'Hip Hop'], [700, 19, 'Male', 'Hip Hop'], [701, 64, 'Male', 'Acoustic'], [702, 58, 'Female', 'Acoustic'], [703, 56, 'Female', 'Classic'], [704, 42, 'Female', 'Classic'], [705, 33, 'Female', 'Acoustic'], [706, 60, 'Male', 'Classic'], [707, 53, 'Male', 'Hip Hop'], [708, 59, 'Male', 'Classic'], [709, 34, 'Male', 'Jazz'], [710, 51, 'Male', 'Acoustic'], [711, 34, 'Male', 'Jazz'], [712, 47, 'Male', 'Hip Hop'], [713, 62, 'Female', 'Hip Hop'], [714, 58, 'Female', 'Acoustic'], [715, 44, 'Male', 'Jazz'], [716, 22, 'Male', 'Acoustic'], [717, 36, 'Female', 'Dance'], [718, 33, 'Female', 'Acoustic'], [719, 40, 'Male', 'Jazz'], [720, 16, 'Male', 'Jazz'], [721, 45, 'Male', 'Classic'], [722, 30, 'Female', 'Dance'], [723, 57, 'Female', 'Hip Hop'], [724, 40, 'Female', 'Classic'], [725, 48, 'Female', 'Jazz'], [726, 59, 'Male', 'Hip Hop'], [727, 50, 'Female', 'Acoustic'], [728, 54, 'Male', 'Dance'], [729, 54, 'Male', 'Classic'], [730, 22, 'Male', 'Dance'], [731, 50, 'Male', 'Acoustic'], [732, 21, 'Female', 'Classic'], [733, 23, 'Female', 'Dance'], [734, 62, 'Male', 'Dance'], [735, 54, 'Female', 'Dance'], [736, 63, 'Female', 'Jazz'], [737, 40, 'Female', 'Hip Hop'], [738, 39, 'Male', 'Classic'], [739, 39, 'Male', 'Hip Hop'], [740, 40, 'Female', 'Dance'], [741, 22, 'Male', 'Dance'], [742, 50, 'Female', 'Jazz'], [743, 62, 'Male', 'Jazz'], [744, 53, 'Female', 'Jazz'], [745, 50, 'Female', 'Acoustic'], [746, 48, 'Female', 'Classic'], [747, 21, 'Female', 'Jazz'], [748, 36, 'Male', 'Hip Hop'], [749, 16, 'Male', 'Classic'], [750, 43, 'Female', 'Classic'], [751, 28, 'Male', 'Acoustic'], [752, 33, 'Male', 'Acoustic'], [753, 62, 'Female', 'Classic'], [754, 48, 'Male', 'Jazz'], [755, 18, 'Female', 'Hip Hop'], [756, 21, 'Male', 'Hip Hop'], [757, 55, 'Male', 'Dance'], [758, 22, 'Male', 'Dance'], [759, 46, 'Male', 'Acoustic'], [760, 56, 'Male', 'Hip Hop'], [761, 26, 'Male', 'Dance'], [762, 42, 'Female', 'Dance'], [763, 63, 'Female', 'Hip Hop'], [764, 37, 'Female', 'Jazz'], [765, 61, 'Female', 'Dance'], [766, 33, 'Male', 'Dance'], [767, 45, 'Male', 'Acoustic'], [768, 38, 'Male', 'Dance'], [769, 29, 'Female', 'Acoustic'], [770, 23, 'Female', 'Classic'], [771, 19, 'Female', 'Acoustic'], [772, 31, 'Female', 'Jazz'], [773, 65, 'Female', 'Jazz'], [774, 29, 'Male', 'Dance'], [775, 46, 'Male', 'Dance'], [776, 53, 'Female', 'Jazz'], [777, 53, 'Female', 'Acoustic'], [778, 58, 'Female', 'Hip Hop'], [779, 27, 'Female', 'Dance'], [780, 21, 'Female', 'Hip Hop'], [781, 15, 'Female', 'Dance'], [782, 64, 'Male', 'Dance'], [783, 34, 'Male', 'Jazz'], [784, 47, 'Male', 'Hip Hop'], [785, 32, 'Male', 'Classic'], [786, 53, 'Female', 'Dance'], [787, 18, 'Male', 'Acoustic'], [788, 34, 'Male', 'Dance'], [789, 40, 'Female', 'Classic'], [790, 54, 'Female', 'Hip Hop'], [791, 49, 'Female', 'Hip Hop'], [792, 44, 'Female', 'Dance'], [793, 20, 'Female', 'Dance'], [794, 63, 'Female', 'Hip Hop'], [795, 32, 'Male', 'Jazz'], [796, 61, 'Female', 'Acoustic'], [797, 42, 'Male', 'Dance'], [798, 43, 'Female', 'Dance'], [799, 17, 'Female', 'Dance'], [800, 31, 'Female', 'Jazz'], [801, 15, 'Female', 'Dance'], [802, 43, 'Female', 'Hip Hop'], [803, 22, 'Female', 'Classic'], [804, 24, 'Male', 'Jazz'], [805, 36, 'Female', 'Classic'], [806, 63, 'Male', 'Jazz'], [807, 60, 'Female', 'Acoustic'], [808, 31, 'Male', 'Classic'], [809, 58, 'Female', 'Jazz'], [810, 28, 'Female', 'Hip Hop'], [811, 31, 'Male', 'Dance'], [812, 43, 'Male', 'Classic'], [813, 27, 'Male', 'Jazz'], [814, 16, 'Female', 'Hip Hop'], [815, 22, 'Male', 'Dance'], [816, 54, 'Female', 'Dance'], [817, 18, 'Male', 'Jazz'], [818, 22, 'Male', 'Acoustic'], [819, 58, 'Female', 'Dance'], [820, 39, 'Male', 'Acoustic'], [821, 28, 'Female', 'Dance'], [822, 65, 'Female', 'Jazz'], [823, 30, 'Male', 'Hip Hop'], [824, 63, 'Male', 'Jazz'], [825, 57, 'Male', 'Jazz'], [826, 15, 'Female', 'Dance'], [827, 35, 'Female', 'Acoustic'], [828, 34, 'Male', 'Acoustic'], [829, 31, 'Female', 'Hip Hop'], [830, 28, 'Male', 'Jazz'], [831, 24, 'Male', 'Jazz'], [832, 48, 'Male', 'Hip Hop'], [833, 31, 'Male', 'Jazz'], [834, 58, 'Female', 'Classic'], [835, 30, 'Male', 'Acoustic'], [836, 21, 'Female', 'Hip Hop'], [837, 19, 'Female', 'Hip Hop'], [838, 37, 'Female', 'Classic'], [839, 38, 'Male', 'Hip Hop'], [840, 29, 'Male', 'Jazz'], [841, 60, 'Male', 'Acoustic'], [842, 31, 'Male', 'Classic'], [843, 54, 'Male', 'Dance'], [844, 52, 'Female', 'Classic'], [845, 45, 'Female', 'Dance'], [846, 30, 'Female', 'Acoustic'], [847, 23, 'Male', 'Classic'], [848, 40, 'Male', 'Hip Hop'], [849, 38, 'Male', 'Dance'], [850, 15, 'Male', 'Jazz'], [851, 19, 'Male', 'Dance'], [852, 41, 'Female', 'Classic'], [853, 56, 'Male', 'Acoustic'], [854, 24, 'Male', 'Hip Hop'], [855, 57, 'Male', 'Classic'], [856, 46, 'Male', 'Hip Hop'], [857, 49, 'Male', 'Acoustic'], [858, 60, 'Male', 'Dance'], [859, 36, 'Male', 'Acoustic'], [860, 65, 'Female', 'Dance'], [861, 31, 'Male', 'Jazz'], [862, 38, 'Female', 'Classic'], [863, 54, 'Male', 'Classic'], [864, 49, 'Female', 'Jazz'], [865, 45, 'Female', 'Hip Hop'], [866, 29, 'Male', 'Classic'], [867, 36, 'Male', 'Hip Hop'], [868, 15, 'Male', 'Jazz'], [869, 47, 'Male', 'Dance'], [870, 32, 'Female', 'Jazz'], [871, 59, 'Female', 'Hip Hop'], [872, 63, 'Male', 'Acoustic'], [873, 43, 'Male', 'Dance'], [874, 58, 'Male', 'Dance'], [875, 63, 'Male', 'Jazz'], [876, 25, 'Female', 'Classic'], [877, 54, 'Female', 'Acoustic'], [878, 15, 'Female', 'Acoustic'], [879, 35, 'Female', 'Hip Hop'], [880, 20, 'Male', 'Acoustic'], [881, 28, 'Female', 'Hip Hop'], [882, 29, 'Female', 'Classic'], [883, 17, 'Female', 'Hip Hop'], [884, 23, 'Male', 'Classic'], [885, 34, 'Female', 'Classic'], [886, 18, 'Male', 'Dance'], [887, 47, 'Male', 'Hip Hop'], [888, 46, 'Male', 'Hip Hop'], [889, 16, 'Male', 'Dance'], [890, 35, 'Male', 'Classic'], [891, 22, 'Female', 'Dance'], [892, 33, 'Male', 'Jazz'], [893, 64, 'Female', 'Hip Hop'], [894, 56, 'Male', 'Classic'], [895, 31, 'Female', 'Dance'], [896, 44, 'Female', 'Hip Hop'], [897, 42, 'Male', 'Classic'], [898, 65, 'Female', 'Acoustic'], [899, 52, 'Male', 'Jazz'], [900, 21, 'Male', 'Jazz'], [901, 62, 'Female', 'Classic'], [902, 58, 'Male', 'Hip Hop'], [903, 47, 'Female', 'Hip Hop'], [904, 57, 'Female', 'Acoustic'], [905, 50, 'Female', 'Hip Hop'], [906, 42, 'Female', 'Jazz'], [907, 40, 'Female', 'Acoustic'], [908, 37, 'Female', 'Hip Hop'], [909, 33, 'Male', 'Classic'], [910, 26, 'Female', 'Jazz'], [911, 32, 'Male', 'Dance'], [912, 19, 'Male', 'Jazz'], [913, 29, 'Female', 'Acoustic'], [914, 55, 'Female', 'Dance'], [915, 48, 'Male', 'Classic'], [916, 19, 'Female', 'Classic'], [917, 30, 'Male', 'Jazz'], [918, 29, 'Male', 'Hip Hop'], [919, 38, 'Female', 'Jazz'], [920, 52, 'Male', 'Dance'], [921, 33, 'Female', 'Dance'], [922, 19, 'Male', 'Dance'], [923, 31, 'Female', 'Acoustic'], [924, 65, 'Male', 'Dance'], [925, 44, 'Male', 'Acoustic'], [926, 16, 'Female', 'Jazz'], [927, 40, 'Male', 'Jazz'], [928, 33, 'Male', 'Acoustic'], [929, 26, 'Male', 'Dance'], [930, 52, 'Female', 'Classic'], [931, 52, 'Male', 'Hip Hop'], [932, 26, 'Female', 'Acoustic'], [933, 51, 'Male', 'Jazz'], [934, 45, 'Male', 'Acoustic'], [935, 56, 'Male', 'Classic'], [936, 37, 'Female', 'Jazz'], [937, 47, 'Male', 'Acoustic'], [938, 37, 'Male', 'Jazz'], [939, 21, 'Male', 'Hip Hop'], [940, 34, 'Female', 'Dance'], [941, 61, 'Male', 'Acoustic'], [942, 41, 'Female', 'Acoustic'], [943, 15, 'Male', 'Hip Hop'], [944, 64, 'Female', 'Jazz'], [945, 48, 'Female', 'Acoustic'], [946, 58, 'Male', 'Dance'], [947, 40, 'Male', 'Jazz'], [948, 34, 'Female', 'Jazz'], [949, 48, 'Male', 'Hip Hop'], [950, 21, 'Male', 'Jazz'], [951, 54, 'Male', 'Jazz'], [952, 22, 'Female', 'Jazz'], [953, 32, 'Male', 'Classic'], [954, 24, 'Female', 'Classic'], [955, 27, 'Female', 'Hip Hop'], [956, 19, 'Female', 'Dance'], [957, 45, 'Female', 'Acoustic'], [958, 35, 'Male', 'Hip Hop'], [959, 44, 'Male', 'Dance'], [960, 54, 'Male', 'Classic'], [961, 43, 'Female', 'Acoustic'], [962, 29, 'Male', 'Classic'], [963, 25, 'Female', 'Classic'], [964, 52, 'Male', 'Hip Hop'], [965, 21, 'Male', 'Classic'], [966, 58, 'Male', 'Acoustic'], [967, 21, 'Female', 'Dance'], [968, 24, 'Male', 'Jazz'], [969, 51, 'Male', 'Jazz'], [970, 23, 'Male', 'Classic'], [971, 21, 'Female', 'Acoustic'], [972, 25, 'Female', 'Jazz'], [973, 43, 'Male', 'Hip Hop'], [974, 22, 'Female', 'Classic'], [975, 43, 'Male', 'Classic'], [976, 19, 'Male', 'Dance'], [977, 41, 'Female', 'Classic'], [978, 56, 'Male', 'Acoustic'], [979, 43, 'Male', 'Dance'], [980, 56, 'Female', 'Jazz'], [981, 47, 'Male', 'Acoustic'], [982, 47, 'Female', 'Classic'], [983, 49, 'Male', 'Hip Hop'], [984, 44, 'Female', 'Jazz'], [985, 58, 'Male', 'Classic'], [986, 42, 'Female', 'Jazz'], [987, 52, 'Male', 'Jazz'], [988, 20, 'Male', 'Jazz'], [989, 20, 'Male', 'Acoustic'], [990, 29, 'Female', 'Acoustic'], [991, 16, 'Female', 'Hip Hop'], [992, 65, 'Male', 'Acoustic'], [993, 29, 'Male', 'Jazz'], [994, 56, 'Male', 'Hip Hop'], [995, 58, 'Male', 'Acoustic'], [996, 58, 'Female', 'Hip Hop'], [997, 45, 'Male', 'Acoustic'], [998, 39, 'Female', 'Classic'], [999, 48, 'Male', 'Jazz'], [1000, 40, 'Female', 'Jazz']]\n"
          ]
        }
      ]
    },
    {
      "cell_type": "markdown",
      "source": [
        "### A Real Problem - Music Genre Prediction\n",
        "  - Import Data\n",
        "  - Clean Data\n",
        "  - Split Data into Training and Testing\n",
        "  - Create an ML Model\n",
        "  - Train the Model\n",
        "  - Make Predictions\n",
        "  - Evaluate and Improve"
      ],
      "metadata": {
        "id": "bkSw54dwe357"
      }
    },
    {
      "cell_type": "code",
      "source": [
        "# Importing the Data\n",
        "import pandas as pd\n",
        "\n",
        "df = pd.read_csv(\"musical_genre.csv\")\n",
        "\n",
        "df"
      ],
      "metadata": {
        "colab": {
          "base_uri": "https://localhost:8080/",
          "height": 424
        },
        "id": "sNEALal5kInN",
        "outputId": "7a779635-ba8d-40bf-c06d-786a96ebcc59"
      },
      "execution_count": 18,
      "outputs": [
        {
          "output_type": "execute_result",
          "data": {
            "text/plain": [
              "      SNo  Age  Gender     Genre\n",
              "0       1   56  Female  Acoustic\n",
              "1       2   61  Female   Classic\n",
              "2       3   15  Female  Acoustic\n",
              "3       4   62    Male   Classic\n",
              "4       5   65    Male   Hip Hop\n",
              "..    ...  ...     ...       ...\n",
              "995   996   58  Female   Hip Hop\n",
              "996   997   45    Male  Acoustic\n",
              "997   998   39  Female   Classic\n",
              "998   999   48    Male      Jazz\n",
              "999  1000   40  Female      Jazz\n",
              "\n",
              "[1000 rows x 4 columns]"
            ],
            "text/html": [
              "\n",
              "  <div id=\"df-f716a5d9-dacc-465e-8699-2afb2396dc7d\">\n",
              "    <div class=\"colab-df-container\">\n",
              "      <div>\n",
              "<style scoped>\n",
              "    .dataframe tbody tr th:only-of-type {\n",
              "        vertical-align: middle;\n",
              "    }\n",
              "\n",
              "    .dataframe tbody tr th {\n",
              "        vertical-align: top;\n",
              "    }\n",
              "\n",
              "    .dataframe thead th {\n",
              "        text-align: right;\n",
              "    }\n",
              "</style>\n",
              "<table border=\"1\" class=\"dataframe\">\n",
              "  <thead>\n",
              "    <tr style=\"text-align: right;\">\n",
              "      <th></th>\n",
              "      <th>SNo</th>\n",
              "      <th>Age</th>\n",
              "      <th>Gender</th>\n",
              "      <th>Genre</th>\n",
              "    </tr>\n",
              "  </thead>\n",
              "  <tbody>\n",
              "    <tr>\n",
              "      <th>0</th>\n",
              "      <td>1</td>\n",
              "      <td>56</td>\n",
              "      <td>Female</td>\n",
              "      <td>Acoustic</td>\n",
              "    </tr>\n",
              "    <tr>\n",
              "      <th>1</th>\n",
              "      <td>2</td>\n",
              "      <td>61</td>\n",
              "      <td>Female</td>\n",
              "      <td>Classic</td>\n",
              "    </tr>\n",
              "    <tr>\n",
              "      <th>2</th>\n",
              "      <td>3</td>\n",
              "      <td>15</td>\n",
              "      <td>Female</td>\n",
              "      <td>Acoustic</td>\n",
              "    </tr>\n",
              "    <tr>\n",
              "      <th>3</th>\n",
              "      <td>4</td>\n",
              "      <td>62</td>\n",
              "      <td>Male</td>\n",
              "      <td>Classic</td>\n",
              "    </tr>\n",
              "    <tr>\n",
              "      <th>4</th>\n",
              "      <td>5</td>\n",
              "      <td>65</td>\n",
              "      <td>Male</td>\n",
              "      <td>Hip Hop</td>\n",
              "    </tr>\n",
              "    <tr>\n",
              "      <th>...</th>\n",
              "      <td>...</td>\n",
              "      <td>...</td>\n",
              "      <td>...</td>\n",
              "      <td>...</td>\n",
              "    </tr>\n",
              "    <tr>\n",
              "      <th>995</th>\n",
              "      <td>996</td>\n",
              "      <td>58</td>\n",
              "      <td>Female</td>\n",
              "      <td>Hip Hop</td>\n",
              "    </tr>\n",
              "    <tr>\n",
              "      <th>996</th>\n",
              "      <td>997</td>\n",
              "      <td>45</td>\n",
              "      <td>Male</td>\n",
              "      <td>Acoustic</td>\n",
              "    </tr>\n",
              "    <tr>\n",
              "      <th>997</th>\n",
              "      <td>998</td>\n",
              "      <td>39</td>\n",
              "      <td>Female</td>\n",
              "      <td>Classic</td>\n",
              "    </tr>\n",
              "    <tr>\n",
              "      <th>998</th>\n",
              "      <td>999</td>\n",
              "      <td>48</td>\n",
              "      <td>Male</td>\n",
              "      <td>Jazz</td>\n",
              "    </tr>\n",
              "    <tr>\n",
              "      <th>999</th>\n",
              "      <td>1000</td>\n",
              "      <td>40</td>\n",
              "      <td>Female</td>\n",
              "      <td>Jazz</td>\n",
              "    </tr>\n",
              "  </tbody>\n",
              "</table>\n",
              "<p>1000 rows × 4 columns</p>\n",
              "</div>\n",
              "      <button class=\"colab-df-convert\" onclick=\"convertToInteractive('df-f716a5d9-dacc-465e-8699-2afb2396dc7d')\"\n",
              "              title=\"Convert this dataframe to an interactive table.\"\n",
              "              style=\"display:none;\">\n",
              "        \n",
              "  <svg xmlns=\"http://www.w3.org/2000/svg\" height=\"24px\"viewBox=\"0 0 24 24\"\n",
              "       width=\"24px\">\n",
              "    <path d=\"M0 0h24v24H0V0z\" fill=\"none\"/>\n",
              "    <path d=\"M18.56 5.44l.94 2.06.94-2.06 2.06-.94-2.06-.94-.94-2.06-.94 2.06-2.06.94zm-11 1L8.5 8.5l.94-2.06 2.06-.94-2.06-.94L8.5 2.5l-.94 2.06-2.06.94zm10 10l.94 2.06.94-2.06 2.06-.94-2.06-.94-.94-2.06-.94 2.06-2.06.94z\"/><path d=\"M17.41 7.96l-1.37-1.37c-.4-.4-.92-.59-1.43-.59-.52 0-1.04.2-1.43.59L10.3 9.45l-7.72 7.72c-.78.78-.78 2.05 0 2.83L4 21.41c.39.39.9.59 1.41.59.51 0 1.02-.2 1.41-.59l7.78-7.78 2.81-2.81c.8-.78.8-2.07 0-2.86zM5.41 20L4 18.59l7.72-7.72 1.47 1.35L5.41 20z\"/>\n",
              "  </svg>\n",
              "      </button>\n",
              "      \n",
              "  <style>\n",
              "    .colab-df-container {\n",
              "      display:flex;\n",
              "      flex-wrap:wrap;\n",
              "      gap: 12px;\n",
              "    }\n",
              "\n",
              "    .colab-df-convert {\n",
              "      background-color: #E8F0FE;\n",
              "      border: none;\n",
              "      border-radius: 50%;\n",
              "      cursor: pointer;\n",
              "      display: none;\n",
              "      fill: #1967D2;\n",
              "      height: 32px;\n",
              "      padding: 0 0 0 0;\n",
              "      width: 32px;\n",
              "    }\n",
              "\n",
              "    .colab-df-convert:hover {\n",
              "      background-color: #E2EBFA;\n",
              "      box-shadow: 0px 1px 2px rgba(60, 64, 67, 0.3), 0px 1px 3px 1px rgba(60, 64, 67, 0.15);\n",
              "      fill: #174EA6;\n",
              "    }\n",
              "\n",
              "    [theme=dark] .colab-df-convert {\n",
              "      background-color: #3B4455;\n",
              "      fill: #D2E3FC;\n",
              "    }\n",
              "\n",
              "    [theme=dark] .colab-df-convert:hover {\n",
              "      background-color: #434B5C;\n",
              "      box-shadow: 0px 1px 3px 1px rgba(0, 0, 0, 0.15);\n",
              "      filter: drop-shadow(0px 1px 2px rgba(0, 0, 0, 0.3));\n",
              "      fill: #FFFFFF;\n",
              "    }\n",
              "  </style>\n",
              "\n",
              "      <script>\n",
              "        const buttonEl =\n",
              "          document.querySelector('#df-f716a5d9-dacc-465e-8699-2afb2396dc7d button.colab-df-convert');\n",
              "        buttonEl.style.display =\n",
              "          google.colab.kernel.accessAllowed ? 'block' : 'none';\n",
              "\n",
              "        async function convertToInteractive(key) {\n",
              "          const element = document.querySelector('#df-f716a5d9-dacc-465e-8699-2afb2396dc7d');\n",
              "          const dataTable =\n",
              "            await google.colab.kernel.invokeFunction('convertToInteractive',\n",
              "                                                     [key], {});\n",
              "          if (!dataTable) return;\n",
              "\n",
              "          const docLinkHtml = 'Like what you see? Visit the ' +\n",
              "            '<a target=\"_blank\" href=https://colab.research.google.com/notebooks/data_table.ipynb>data table notebook</a>'\n",
              "            + ' to learn more about interactive tables.';\n",
              "          element.innerHTML = '';\n",
              "          dataTable['output_type'] = 'display_data';\n",
              "          await google.colab.output.renderOutput(dataTable, element);\n",
              "          const docLink = document.createElement('div');\n",
              "          docLink.innerHTML = docLinkHtml;\n",
              "          element.appendChild(docLink);\n",
              "        }\n",
              "      </script>\n",
              "    </div>\n",
              "  </div>\n",
              "  "
            ]
          },
          "metadata": {},
          "execution_count": 18
        }
      ]
    }
  ]
}